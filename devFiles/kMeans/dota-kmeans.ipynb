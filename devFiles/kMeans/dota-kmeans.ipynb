{
 "cells": [
  {
   "cell_type": "markdown",
   "metadata": {},
   "source": [
    "# Dota K-Means\n",
    "Welcome to a data exploration on Dota! Dota is a multiplayer online battle arena (MOBA) that I played throughout high school. I love the passion the community has for the game, and it was tons of fun to play with my friends. I look forward to seeing what we can find :D"
   ]
  },
  {
   "cell_type": "markdown",
   "metadata": {},
   "source": [
    "# The Story\n",
    "\n",
    "Some of the heroes have felt recently that their assignments into the three categories of Strength, Agility, and Intelligence isn't the most accurate.  After years of buffs, nerfs, and reworks, the heros think it's time to do one big reassignmnet. What would happen if the heros were reassigned to new groupings?  Lets find out!"
   ]
  },
  {
   "cell_type": "markdown",
   "metadata": {},
   "source": [
    "# The Data Process\n",
    "\n",
    "The data used in calculating these groupings are standard Dota hero attributes.  Each hero has a set template inherent to their character, so for example, Abaddon has a shorter range than a hero like Windrunner as Abaddon uses melee attacks, while Windrunner uses ranged attacks.  Certain parts of the data will be excluded (e.g. their vision range, and number of legs).  I will also normalize over all columns, as I want to have no one stat's scaling to outweigh the others in determining groupings."
   ]
  },
  {
   "cell_type": "code",
   "execution_count": 1,
   "metadata": {},
   "outputs": [],
   "source": [
    "# Imports\n",
    "import pandas as pd\n",
    "import numpy as np\n",
    "from sklearn.cluster import KMeans\n",
    "from sklearn.preprocessing import LabelEncoder\n",
    "from sklearn.preprocessing import MinMaxScaler"
   ]
  },
  {
   "cell_type": "code",
   "execution_count": 2,
   "metadata": {},
   "outputs": [
    {
     "name": "stdout",
     "output_type": "stream",
     "text": [
      "          STR      STR+     STR30       AGI      AGI+     AGI30       INT  \\\n",
      "0    0.600000  0.515152  0.505397  0.676471  0.312500  0.412531  0.333333   \n",
      "1    0.733333  0.424242  0.439647  0.647059  0.312500  0.406328  0.722222   \n",
      "2    0.400000  0.181818  0.162905  0.588235  0.458333  0.519851  0.611111   \n",
      "3    0.600000  0.000000  0.021590  0.705882  0.625000  0.688586  0.000000   \n",
      "4    0.733333  0.515152  0.525025  0.441176  0.500000  0.524814  0.666667   \n",
      "..        ...       ...       ...       ...       ...       ...       ...   \n",
      "114  0.266667  0.515152  0.456330  0.500000  0.291667  0.357320  0.333333   \n",
      "115  0.666667  0.393939  0.401374  0.470588  0.395833  0.441067  0.777778   \n",
      "116  0.266667  0.303030  0.257115  0.382353  0.291667  0.332506  0.555556   \n",
      "117  0.533333  0.575758  0.552502  0.529412  0.354167  0.417494  0.333333   \n",
      "118  0.466667  0.242424  0.229637  0.323529  0.250000  0.284119  0.555556   \n",
      "\n",
      "         INT+     INT30         T  ...        AR  DMG(MIN)  DMG(MAX)  \\\n",
      "0    0.238095  0.256024  0.633333  ...  0.271375  0.333333  0.423729   \n",
      "1    0.190476  0.265060  0.900000  ...  0.256506  0.296296  0.372881   \n",
      "2    0.571429  0.599398  0.600000  ...  0.226766  0.203704  0.305085   \n",
      "3    0.190476  0.167169  0.466667  ...  0.286245  0.370370  0.355932   \n",
      "4    0.380952  0.432229  0.633333  ...  0.059480  0.240741  0.338983   \n",
      "..        ...       ...       ...  ...       ...       ...       ...   \n",
      "114  0.619048  0.605422  0.266667  ...  0.182156  0.166667  0.305085   \n",
      "115  0.619048  0.665663  0.700000  ...  0.167286  0.092593  0.152542   \n",
      "116  0.547619  0.570030  0.266667  ...  0.215613  0.333333  0.423729   \n",
      "117  0.142857  0.168675  0.433333  ...  0.197026  0.481481  0.423729   \n",
      "118  0.547619  0.570030  0.300000  ...  0.278810  0.407407  0.457627   \n",
      "\n",
      "           RG    AS       BAT     ATKPT     ATKBS   TR      HP/S  \n",
      "0    0.017857  0.75  0.500000  0.745455  0.350427  0.0  0.197531  \n",
      "1    0.017857  0.25  0.500000  0.363636  0.555556  0.2  0.246914  \n",
      "2    0.955357  0.25  0.500000  0.545455  0.256410  0.2  0.123457  \n",
      "3    0.017857  0.25  0.000000  0.272727  0.512821  0.0  0.259259  \n",
      "4    0.866071  0.25  0.500000  0.272727  0.598291  0.4  0.308642  \n",
      "..        ...   ...       ...       ...       ...  ...       ...  \n",
      "114  0.821429  0.25  0.166667  0.454545  0.256410  0.6  0.074074  \n",
      "115  0.508929  0.25  0.500000  0.181818  0.683761  0.0  0.222222  \n",
      "116  0.821429  0.25  0.500000  0.454545  0.427350  0.0  0.074074  \n",
      "117  0.017857  0.25  0.500000  0.745455  0.376068  0.0  0.172840  \n",
      "118  0.428571  0.25  0.500000  0.363636  0.470085  0.2  0.148148  \n",
      "\n",
      "[119 rows x 23 columns]\n"
     ]
    }
   ],
   "source": [
    "\"\"\"\n",
    "Standard data cleaning.  Removing columns that may not be of \n",
    "interest (e.g. number of legs)\n",
    "\"\"\"\n",
    "# Data pulled from Dota wiki.  See \"webscraping\" section of project\n",
    "#  for more details!\n",
    "dota_df = pd.read_csv(\"data/hero_stats.csv\")\n",
    "\n",
    "le = LabelEncoder()\n",
    "le.fit(dota_df['A'])\n",
    "\n",
    "trueClasses = list(le.classes_)\n",
    "\n",
    "dota_df['A'] = le.transform(dota_df['A'])\n",
    "slice_df = dota_df[['HERO', 'A']]\n",
    "dota_df = dota_df.drop(columns=['L', 'A', 'COL', 'HERO', 'VS-D', 'VS-N'])\n",
    "\n",
    "min_max_scaler = MinMaxScaler()\n",
    "scaled_values = min_max_scaler.fit_transform(dota_df) \n",
    "dota_df.loc[:,:] = scaled_values\n",
    "\n",
    "print(dota_df)"
   ]
  },
  {
   "cell_type": "code",
   "execution_count": 3,
   "metadata": {
    "scrolled": true
   },
   "outputs": [
    {
     "data": {
      "text/plain": [
       "KMeans(algorithm='auto', copy_x=True, init='k-means++', max_iter=300,\n",
       "       n_clusters=3, n_init=25, n_jobs=None, precompute_distances='auto',\n",
       "       random_state=None, tol=0.0001, verbose=0)"
      ]
     },
     "execution_count": 3,
     "metadata": {},
     "output_type": "execute_result"
    }
   ],
   "source": [
    "kmeans = KMeans(n_clusters=3, n_init=25)\n",
    "kmeans.fit(dota_df)"
   ]
  },
  {
   "cell_type": "code",
   "execution_count": 4,
   "metadata": {},
   "outputs": [],
   "source": [
    "hero_groups = [[], [], []]\n",
    "og_labels = [[], [], []]\n",
    "\n",
    "for hero_ind in range(len(kmeans.labels_)):\n",
    "    hero_name = slice_df['HERO'][hero_ind]\n",
    "    pred_label = kmeans.labels_[hero_ind]\n",
    "    true_label = trueClasses[slice_df['A'][hero_ind]]\n",
    "    hero_groups[pred_label].append((hero_name, true_label))\n",
    "    \n",
    "hero_groups.sort()"
   ]
  },
  {
   "cell_type": "markdown",
   "metadata": {},
   "source": [
    "# The Results: A First Look\n",
    "\n",
    "With the processing out of the way, let's take a look at how the heros grouped up!"
   ]
  },
  {
   "cell_type": "markdown",
   "metadata": {},
   "source": [
    "# Group A"
   ]
  },
  {
   "cell_type": "code",
   "execution_count": 5,
   "metadata": {},
   "outputs": [
    {
     "name": "stdout",
     "output_type": "stream",
     "text": [
      "Group A:\n",
      "Abaddon              \t Strength\n",
      "Alchemist            \t Strength\n",
      "Axe                  \t Strength\n",
      "Batrider             \t Intelligence\n",
      "Beastmaster          \t Strength\n",
      "Bloodseeker          \t Agility\n",
      "Bounty Hunter        \t Agility\n",
      "Brewmaster           \t Strength\n",
      "Bristleback          \t Strength\n",
      "Centaur Warrunner    \t Strength\n",
      "Chaos Knight         \t Strength\n",
      "Clockwerk            \t Strength\n",
      "Dark Seer            \t Intelligence\n",
      "Doom                 \t Strength\n",
      "Dragon Knight        \t Strength\n",
      "Earth Spirit         \t Strength\n",
      "Earthshaker          \t Strength\n",
      "Elder Titan          \t Strength\n",
      "Ember Spirit         \t Agility\n",
      "Faceless Void        \t Agility\n",
      "Kunkka               \t Strength\n",
      "Legion Commander     \t Strength\n",
      "Lifestealer          \t Strength\n",
      "Lycan                \t Strength\n",
      "Magnus               \t Strength\n",
      "Mars                 \t Strength\n",
      "Meepo                \t Agility\n",
      "Naga Siren           \t Agility\n",
      "Night Stalker        \t Strength\n",
      "Nyx Assassin         \t Agility\n",
      "Ogre Magi            \t Intelligence\n",
      "Omniknight           \t Strength\n",
      "Phoenix              \t Strength\n",
      "Pudge                \t Strength\n",
      "Riki                 \t Agility\n",
      "Sand King            \t Strength\n",
      "Slardar              \t Strength\n",
      "Slark                \t Agility\n",
      "Spectre              \t Agility\n",
      "Spirit Breaker       \t Strength\n",
      "Sven                 \t Strength\n",
      "Tidehunter           \t Strength\n",
      "Timbersaw            \t Strength\n",
      "Tiny                 \t Strength\n",
      "Treant Protector     \t Strength\n",
      "Tusk                 \t Strength\n",
      "Underlord            \t Strength\n",
      "Undying              \t Strength\n",
      "Ursa                 \t Agility\n",
      "Void Spirit          \t Intelligence\n",
      "Wraith King          \t Strength\n"
     ]
    }
   ],
   "source": [
    "print(\"Group A:\")\n",
    "\n",
    "for hero in hero_groups[0]:\n",
    "    print(\"{:<20s} \\t {}\".format(hero[0], hero[1]))"
   ]
  },
  {
   "cell_type": "markdown",
   "metadata": {},
   "source": [
    "As we can see, **Group A** has a ton of representation from the past classication of \"Strength\".  It would make sense that a majority of each group will be made by the traditional classification, as these classifications can be reflected by a hero's initial stats and stat growth. \n",
    "\n",
    "Looking over the heros in this grouping, we can see tons of melee representation, with the only two outliers being Batrider and Phoenix.\n",
    "\n",
    "Looking across all outliers (baseline being for **Group A** being a Strength assignment), we get the following heros:\n",
    "- Batrider\n",
    "- Bloodseeker\n",
    "- Bounty Hunter\n",
    "- Dark Seer\n",
    "- Ember Spirit\n",
    "- Faceless Void\n",
    "- Meepo\n",
    "- Naga siren\n",
    "- Nyx Assassin\n",
    "- Ogre Magi\n",
    "- Riki\n",
    "- Slark\n",
    "- Spectre\n",
    "- Ursa\n",
    "- Void Spirit\n",
    "\n",
    "With the exception of Phoenix and Batrider, these are all melee characters with some of the highest initial strength stat in the game.  The only other characters in the list that have these high initial strength stat that aren't part of this grouping are all ranged characters, which would greatly indicate that the range of a characters attack greatly weighs in its grouping.\n",
    "\n",
    "Looking at the two outliers, Batrider and Phoenix, it is important to note that although they do have 'ranged' attacks, Batrider's is only at a range of 375 units, compared to the roughly standard 500 units that most ranged heros have.  As for Phoenix, it has a range of 525, making it the longest range of all **Group A**.  Phoenix truly is an outlier, and may be interesting to explore further."
   ]
  },
  {
   "cell_type": "markdown",
   "metadata": {},
   "source": [
    "# Group B"
   ]
  },
  {
   "cell_type": "code",
   "execution_count": 6,
   "metadata": {},
   "outputs": [
    {
     "name": "stdout",
     "output_type": "stream",
     "text": [
      "Ancient Apparition   \t Intelligence\n",
      "Arc Warden           \t Agility\n",
      "Bane                 \t Intelligence\n",
      "Chen                 \t Intelligence\n",
      "Crystal Maiden       \t Intelligence\n",
      "Dark Willow          \t Intelligence\n",
      "Dazzle               \t Intelligence\n",
      "Death Prophet        \t Intelligence\n",
      "Disruptor            \t Intelligence\n",
      "Enchantress          \t Intelligence\n",
      "Enigma               \t Intelligence\n",
      "Grimstroke           \t Intelligence\n",
      "Invoker              \t Intelligence\n",
      "Jakiro               \t Intelligence\n",
      "Keeper of the Light  \t Intelligence\n",
      "Leshrac              \t Intelligence\n",
      "Lich                 \t Intelligence\n",
      "Lina                 \t Intelligence\n",
      "Lion                 \t Intelligence\n",
      "Medusa               \t Agility\n",
      "Nature's Prophet     \t Intelligence\n",
      "Necrophos            \t Intelligence\n",
      "Oracle               \t Intelligence\n",
      "Outworld Devourer    \t Intelligence\n",
      "Puck                 \t Intelligence\n",
      "Pugna                \t Intelligence\n",
      "Queen of Pain        \t Intelligence\n",
      "Rubick               \t Intelligence\n",
      "Shadow Demon         \t Intelligence\n",
      "Shadow Shaman        \t Intelligence\n",
      "Silencer             \t Intelligence\n",
      "Skywrath Mage        \t Intelligence\n",
      "Storm Spirit         \t Intelligence\n",
      "Techies              \t Intelligence\n",
      "Tinker               \t Intelligence\n",
      "Visage               \t Intelligence\n",
      "Warlock              \t Intelligence\n",
      "Windranger           \t Intelligence\n",
      "Winter Wyvern        \t Intelligence\n",
      "Witch Doctor         \t Intelligence\n",
      "Zeus                 \t Intelligence\n"
     ]
    }
   ],
   "source": [
    "for hero in hero_groups[1]:\n",
    "    print(\"{:<20s} \\t {}\".format(hero[0], hero[1]))"
   ]
  },
  {
   "cell_type": "markdown",
   "metadata": {},
   "source": [
    "**Group B** is nearly completely made from the past classication of \"Intelligence\".  The only two heroes not part of the intelligence group originally are both Arc Warden and Medusa."
   ]
  },
  {
   "cell_type": "markdown",
   "metadata": {},
   "source": [
    "# Group C"
   ]
  },
  {
   "cell_type": "code",
   "execution_count": 7,
   "metadata": {},
   "outputs": [
    {
     "name": "stdout",
     "output_type": "stream",
     "text": [
      "Anti-Mage            \t Agility\n",
      "Broodmother          \t Agility\n",
      "Clinkz               \t Agility\n",
      "Drow Ranger          \t Agility\n",
      "Gyrocopter           \t Agility\n",
      "Huskar               \t Strength\n",
      "Io                   \t Strength\n",
      "Juggernaut           \t Agility\n",
      "Lone Druid           \t Agility\n",
      "Luna                 \t Agility\n",
      "Mirana               \t Agility\n",
      "Monkey King          \t Agility\n",
      "Morphling            \t Agility\n",
      "Pangolier            \t Agility\n",
      "Phantom Assassin     \t Agility\n",
      "Phantom Lancer       \t Agility\n",
      "Razor                \t Agility\n",
      "Shadow Fiend         \t Agility\n",
      "Snapfire             \t Strength\n",
      "Sniper               \t Agility\n",
      "Templar Assassin     \t Agility\n",
      "Terrorblade          \t Agility\n",
      "Troll Warlord        \t Agility\n",
      "Vengeful Spirit      \t Agility\n",
      "Venomancer           \t Agility\n",
      "Viper                \t Agility\n",
      "Weaver               \t Agility\n"
     ]
    }
   ],
   "source": [
    "for hero in hero_groups[2]:\n",
    "    print(\"{:<20s} \\t {}\".format(hero[0], hero[1]))"
   ]
  },
  {
   "cell_type": "code",
   "execution_count": null,
   "metadata": {},
   "outputs": [],
   "source": []
  },
  {
   "cell_type": "code",
   "execution_count": null,
   "metadata": {},
   "outputs": [],
   "source": []
  }
 ],
 "metadata": {
  "kernelspec": {
   "display_name": "Python 3",
   "language": "python",
   "name": "python3"
  },
  "language_info": {
   "codemirror_mode": {
    "name": "ipython",
    "version": 3
   },
   "file_extension": ".py",
   "mimetype": "text/x-python",
   "name": "python",
   "nbconvert_exporter": "python",
   "pygments_lexer": "ipython3",
   "version": "3.7.6"
  }
 },
 "nbformat": 4,
 "nbformat_minor": 4
}
